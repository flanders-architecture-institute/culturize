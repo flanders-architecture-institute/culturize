{
 "cells": [
  {
   "cell_type": "markdown",
   "id": "d654e3b2",
   "metadata": {},
   "source": [
    "## Gebruik van Culturize notebook\n",
    "\n",
    "Dit notebook dient om de permanente URI's van de **gebouwendatabank** te updaten. De permanente URI's updaten werkt als volgt:\n",
    "1. Exporteer de gebouwendatabank in JSON (kies de versie met simpele rauwe data)\n",
    "1. Zet met dit notebook de JSON om naar een .htaccess-file (optie 1) of naar een csv (optie 2)\n",
    "1. Laad de .htaccess file op in de Github repo (zie onder) of laad de CSV op via de culturize app.\n",
    "\n",
    "Dit notebook bestaat dus uit twee methodess\n",
    "1. Persistente URI's voor gebouwen updaten door rechtstreeks het .htaccess-file aan te passen\n",
    "1. Persistente URI's voor gebouwen updaten door een culturize CSV aan te maken die kan worden geüpload via de Culturize app\n",
    "\n",
    "### .htaccess\n",
    "In de culturize github repo is er een .htaccess file dat de doorverwijzingen van de persistente URI's regelt: https://github.com/flanders-architecture-institute/culturize/blob/master/buildingdb/.htaccess\n",
    "Deze methode maakt een nieuw .htaccess file op basis van een JSON-export van de gebouwendatabank Je kunt het .htaccess file updaten door te pushen naar de repo of handmatig te vervangen via de browser.\n",
    "\n",
    "### culturize CSV\n",
    "Culturize biedt naast de Github infra ook een tool aan die een CSV omzet een .htaccess file en automatisch pusht naar de culturize repository. Deze methode bleek in 2023 niet meer te werken door een mismatch met de Github credentials. Gebruik liever de .htaccess-methode aangezien dit robuuster is.\n",
    "\n",
    "## Culturize Github repo voor de Gebouwendatabank\n",
    "Culturize werkt aan de hand van .htaccess files in een Githubrepo. Via CircleCI wordt aan de hand van die Githubrepo een webserver geüpdatet. Alle info over Culturize op https://github.com/PACKED-vzw/CultURIze\n",
    "\n",
    "Het VAi gebruikt Culturize momenteel enkel voor de permanente URI's van de gebouwendatabank. VAi's Culturize app bevindt zich op deze URL: https://github.com/flanders-architecture-institute/culturize/tree/master"
   ]
  },
  {
   "cell_type": "code",
   "execution_count": null,
   "id": "a278c845",
   "metadata": {},
   "outputs": [],
   "source": [
    "# Voer deze cel altijd uit\n",
    "\n",
    "import culturize"
   ]
  },
  {
   "cell_type": "code",
   "execution_count": null,
   "id": "5f4e1a2e",
   "metadata": {},
   "outputs": [],
   "source": [
    "# OPTIE 1 (voorkeur) - Maak culturize .htaccess\n",
    "\n",
    "input_json = r\"C:\\Users\\Wim Lo\\Downloads\\inhoud(2).json\"\n",
    "local_htaccess_path = r'C:\\Users\\Wim Lo\\OneDrive - Vlaams Architectuurinstituut vzw\\GitHub\\culturize\\buildingdb\\.htaccess'\n",
    "\n",
    "culturize.create_culturize_htaccess(input_json, local_htaccess_path)"
   ]
  },
  {
   "cell_type": "code",
   "execution_count": null,
   "id": "d85eebfd",
   "metadata": {},
   "outputs": [],
   "source": [
    "# OPTIE 2 - Maak culturize CSV\n",
    "\n",
    "input_json = r'path\\to\\json'\n",
    "output_csv = r'path\\to\\csv'\n",
    "\n",
    "culturize.create_culturize_csv(input_json, output_csv)"
   ]
  }
 ],
 "metadata": {
  "kernelspec": {
   "display_name": "Python 3 (ipykernel)",
   "language": "python",
   "name": "python3"
  },
  "language_info": {
   "codemirror_mode": {
    "name": "ipython",
    "version": 3
   },
   "file_extension": ".py",
   "mimetype": "text/x-python",
   "name": "python",
   "nbconvert_exporter": "python",
   "pygments_lexer": "ipython3",
   "version": "3.8.18"
  }
 },
 "nbformat": 4,
 "nbformat_minor": 5
}
